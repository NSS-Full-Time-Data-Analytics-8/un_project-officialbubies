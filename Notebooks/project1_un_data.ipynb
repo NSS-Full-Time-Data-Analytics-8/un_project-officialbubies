{
 "cells": [
  {
   "cell_type": "markdown",
   "id": "5b9a3e33",
   "metadata": {},
   "source": [
    "#3 Import the required packages with their customary aliases"
   ]
  },
  {
   "cell_type": "code",
   "execution_count": null,
   "id": "bff1553c",
   "metadata": {},
   "outputs": [],
   "source": [
    "import pandas as pd\n",
    "import numpy as np\n",
    "import matplotlib.pyplot as plt\n",
    "import seaborn as sns"
   ]
  },
  {
   "cell_type": "markdown",
   "id": "9c634156",
   "metadata": {},
   "source": [
    "#4 Use the `%matplotlib inline` magic command so that your plots show in the notebook _without_ having to call `plt.show()` every time."
   ]
  },
  {
   "cell_type": "code",
   "execution_count": null,
   "id": "b0009517",
   "metadata": {},
   "outputs": [],
   "source": [
    "%matplotlib inline"
   ]
  },
  {
   "cell_type": "markdown",
   "id": "fa9eeb58",
   "metadata": {},
   "source": [
    "#5.\tUsing the pandas `read_csv()` method, read the GDP dataset into your notebook as a DataFrame called `gdp_df`. Take a look at the first 6 rows."
   ]
  },
  {
   "cell_type": "code",
   "execution_count": null,
   "id": "b4c11585",
   "metadata": {},
   "outputs": [],
   "source": [
    "gdp_df = pd.read_csv('../data/gdp_percapita.csv' )\n",
    "gdp_df.head(6)"
   ]
  },
  {
   "cell_type": "markdown",
   "id": "d7069711",
   "metadata": {},
   "source": [
    "#6. Repeat for the internet use dataset. Call this DataFrame `internet_df`. Take a look at the first six rows.\n"
   ]
  },
  {
   "cell_type": "code",
   "execution_count": null,
   "id": "96b8f5c9",
   "metadata": {
    "scrolled": true
   },
   "outputs": [],
   "source": [
    "internet_df = pd.read_csv('../data/internet_use.csv')\n",
    "internet_df.head(6)"
   ]
  },
  {
   "cell_type": "markdown",
   "id": "f88eaf29",
   "metadata": {},
   "source": [
    "#98. Look at the shape of each DataFrame - how many rows? How many columns?\n"
   ]
  },
  {
   "cell_type": "code",
   "execution_count": null,
   "id": "6e0e512d",
   "metadata": {
    "scrolled": true
   },
   "outputs": [],
   "source": [
    "gdp_df.shape"
   ]
  },
  {
   "cell_type": "markdown",
   "id": "272ce461",
   "metadata": {},
   "source": [
    "There are 7176 rows and 4 columns in gdp dataframe"
   ]
  },
  {
   "cell_type": "code",
   "execution_count": null,
   "id": "3669ba50",
   "metadata": {
    "scrolled": true
   },
   "outputs": [],
   "source": [
    "internet_df.shape"
   ]
  },
  {
   "cell_type": "markdown",
   "id": "a55eeccd",
   "metadata": {},
   "source": [
    "There are 4675 rows and 4 columns in internet_use dataframe"
   ]
  },
  {
   "cell_type": "markdown",
   "id": "e04143fd",
   "metadata": {},
   "source": [
    "#6.\tTake a look at the datatypes for the columns in each DataFrame.\n"
   ]
  },
  {
   "cell_type": "code",
   "execution_count": null,
   "id": "906dab32",
   "metadata": {},
   "outputs": [],
   "source": [
    "print(type(gdp_df['Country or Area']))\n",
    "print(type(gdp_df.Year))\n",
    "print(type(gdp_df.Value))\n",
    "print(type(gdp_df['Value Footnotes']))"
   ]
  },
  {
   "cell_type": "markdown",
   "id": "56a78e2a",
   "metadata": {},
   "source": [
    "Show data types of columns:"
   ]
  },
  {
   "cell_type": "code",
   "execution_count": null,
   "id": "3018649e",
   "metadata": {},
   "outputs": [],
   "source": [
    "gdp_df.columns"
   ]
  },
  {
   "cell_type": "code",
   "execution_count": null,
   "id": "6ca43652",
   "metadata": {
    "scrolled": true
   },
   "outputs": [],
   "source": [
    "internet_df.columns\n"
   ]
  },
  {
   "cell_type": "code",
   "execution_count": null,
   "id": "a57ff793",
   "metadata": {},
   "outputs": [],
   "source": [
    "gdp_df.info()"
   ]
  },
  {
   "cell_type": "code",
   "execution_count": null,
   "id": "f03572bd",
   "metadata": {},
   "outputs": [],
   "source": [
    "internet_df.info()"
   ]
  },
  {
   "cell_type": "markdown",
   "id": "aa42ca88",
   "metadata": {},
   "source": [
    "Different datatypes between the two DFs. gdp_df: obj, int64, float64, float64. internet_df: object, object, float64, float64."
   ]
  },
  {
   "cell_type": "markdown",
   "id": "58d7a507",
   "metadata": {},
   "source": [
    "Drop Column 'Value Footnote'"
   ]
  },
  {
   "cell_type": "markdown",
   "id": "abe3a534",
   "metadata": {},
   "source": [
    "#99. Take a look at the last 10 rows of each DataFrame in turn."
   ]
  },
  {
   "cell_type": "code",
   "execution_count": null,
   "id": "0c31a932",
   "metadata": {},
   "outputs": [],
   "source": [
    "gdp_three.tail(10)\n",
    "\n",
    "internet_three.tail(10)"
   ]
  },
  {
   "cell_type": "markdown",
   "id": "573d95cb",
   "metadata": {},
   "source": [
    "#7.\tDrop the `value footnotes` column from both DataFrames. Check that this worked as expected.\n"
   ]
  },
  {
   "cell_type": "code",
   "execution_count": null,
   "id": "60914b03",
   "metadata": {},
   "outputs": [],
   "source": [
    "gdp_three = gdp_df.drop(columns = ['Value Footnotes'])\n",
    "internet_three = internet_df.drop(columns = ['Value Footnotes'])\n",
    "gdp_three.head()\n",
    "internet_three.head()"
   ]
  },
  {
   "cell_type": "markdown",
   "id": "6e5fac0f",
   "metadata": {},
   "source": [
    "#8.\tChange the columns for the GDP Per Capita DataFrame to ‘Country’, ‘Year’, and ‘GDP_Per_Capita’.\n"
   ]
  },
  {
   "cell_type": "code",
   "execution_count": null,
   "id": "5e2d1d7f",
   "metadata": {},
   "outputs": [],
   "source": [
    "gdp_three.columns = ['Country','Year', 'GDP_Per_Capita']\n",
    "gdp_three.head()\n"
   ]
  },
  {
   "cell_type": "markdown",
   "id": "1b9c6568",
   "metadata": {},
   "source": [
    "#9.\tChange the columns for the Internet Users DataFrame to ‘Country’, ‘Year’, and ‘Internet_Users_Pct’."
   ]
  },
  {
   "cell_type": "code",
   "execution_count": null,
   "id": "0a31e9cd",
   "metadata": {},
   "outputs": [],
   "source": [
    "internet_three.columns = ['Country','Year', 'Internet_Users_Pct']\n",
    "internet_three.head()"
   ]
  },
  {
   "cell_type": "markdown",
   "id": "f4b34f56",
   "metadata": {},
   "source": [
    "#10. Merge the two DataFrames to one. Merge **all rows** from each of the two DataFrames. Call the new DataFrame `gdp_and_internet_use`."
   ]
  },
  {
   "cell_type": "code",
   "execution_count": null,
   "id": "40542e33",
   "metadata": {},
   "outputs": [],
   "source": [
    "gdp_and_internet_use = pd.merge(gdp_three, internet_three, on=['Country'])\n",
    "gdp_and_internet_use"
   ]
  },
  {
   "cell_type": "markdown",
   "id": "0ab91aae",
   "metadata": {},
   "source": [
    "#11. Look at the first five rows of your new DataFrame to confirm it merged correctly.\n"
   ]
  },
  {
   "cell_type": "code",
   "execution_count": null,
   "id": "eddad901",
   "metadata": {
    "scrolled": true
   },
   "outputs": [],
   "source": [
    "gdp_and_internet_use.head()\n"
   ]
  },
  {
   "cell_type": "markdown",
   "id": "bb920e46",
   "metadata": {},
   "source": [
    "#12. Look at the last five rows to make sure the data is clean and as expected."
   ]
  },
  {
   "cell_type": "code",
   "execution_count": null,
   "id": "1d245263",
   "metadata": {},
   "outputs": [],
   "source": [
    "gdp_and_internet_use.tail()"
   ]
  },
  {
   "cell_type": "markdown",
   "id": "c2414430",
   "metadata": {},
   "source": [
    "#13. Subset the combined DataFrame to keep only the data for 2004, 2009, and 2014. Check that this happened correctly."
   ]
  },
  {
   "cell_type": "code",
   "execution_count": null,
   "id": "34964b4e",
   "metadata": {},
   "outputs": [],
   "source": [
    "years_sub= gdp_and_internet_use['Year_x']\n",
    "years_sub"
   ]
  },
  {
   "cell_type": "code",
   "execution_count": null,
   "id": "63892f31",
   "metadata": {},
   "outputs": [],
   "source": []
  },
  {
   "cell_type": "markdown",
   "id": "426d039e",
   "metadata": {},
   "source": []
  }
 ],
 "metadata": {
  "kernelspec": {
   "display_name": "Python 3 (ipykernel)",
   "language": "python",
   "name": "python3"
  },
  "language_info": {
   "codemirror_mode": {
    "name": "ipython",
    "version": 3
   },
   "file_extension": ".py",
   "mimetype": "text/x-python",
   "name": "python",
   "nbconvert_exporter": "python",
   "pygments_lexer": "ipython3",
   "version": "3.10.6"
  }
 },
 "nbformat": 4,
 "nbformat_minor": 5
}
