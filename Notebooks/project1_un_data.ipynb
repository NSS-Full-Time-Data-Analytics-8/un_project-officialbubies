{
 "cells": [
  {
   "cell_type": "code",
   "execution_count": null,
   "id": "bff1553c",
   "metadata": {},
   "outputs": [],
   "source": [
    "import pandas as pd\n",
    "import numpy as np\n",
    "import matplotlib.pyplot as plt\n",
    "import seaborn as sns"
   ]
  },
  {
   "cell_type": "markdown",
   "id": "9c634156",
   "metadata": {},
   "source": [
    "#4 Use the `%matplotlib inline` magic command so that your plots show in the notebook _without_ having to call `plt.show()` every time."
   ]
  },
  {
   "cell_type": "code",
   "execution_count": null,
   "id": "b0009517",
   "metadata": {},
   "outputs": [],
   "source": [
    "%matplotlib inline"
   ]
  },
  {
   "cell_type": "markdown",
   "id": "fa9eeb58",
   "metadata": {},
   "source": [
    "#5.\tUsing the pandas `read_csv()` method, read the GDP dataset into your notebook as a DataFrame called `gdp_df`. Take a look at the first 6 rows."
   ]
  },
  {
   "cell_type": "code",
   "execution_count": null,
   "id": "b4c11585",
   "metadata": {},
   "outputs": [],
   "source": [
    "gdp_df = pd.read_csv('../data/gdp_percapita.csv')\n",
    "gdp_df.head(6)"
   ]
  },
  {
   "cell_type": "code",
   "execution_count": null,
   "id": "ba9367ce",
   "metadata": {},
   "outputs": [],
   "source": [
    "gdp_df.shape"
   ]
  },
  {
   "cell_type": "markdown",
   "id": "d7069711",
   "metadata": {},
   "source": [
    "#6. Repeat for the internet use dataset. Call this DataFrame `internet_df`. Take a look at the first six rows.\n"
   ]
  },
  {
   "cell_type": "code",
   "execution_count": null,
   "id": "96b8f5c9",
   "metadata": {
    "scrolled": true
   },
   "outputs": [],
   "source": [
    "internet_df = pd.read_csv('../data/internet_use.csv', nrows = 4495)\n",
    "internet_df.head(6)"
   ]
  },
  {
   "cell_type": "markdown",
   "id": "f88eaf29",
   "metadata": {},
   "source": [
    "#98. Look at the shape of each DataFrame - how many rows? How many columns?\n"
   ]
  },
  {
   "cell_type": "code",
   "execution_count": null,
   "id": "6e0e512d",
   "metadata": {
    "scrolled": true
   },
   "outputs": [],
   "source": [
    "gdp_df.shape"
   ]
  },
  {
   "cell_type": "markdown",
   "id": "272ce461",
   "metadata": {},
   "source": [
    "There are 7176 rows and 4 columns in gdp dataframe"
   ]
  },
  {
   "cell_type": "code",
   "execution_count": null,
   "id": "3669ba50",
   "metadata": {
    "scrolled": true
   },
   "outputs": [],
   "source": [
    "internet_df.shape"
   ]
  },
  {
   "cell_type": "markdown",
   "id": "a55eeccd",
   "metadata": {},
   "source": [
    "There are 4675 rows and 4 columns in internet_use dataframe"
   ]
  },
  {
   "cell_type": "markdown",
   "id": "e04143fd",
   "metadata": {},
   "source": [
    "#6.\tTake a look at the datatypes for the columns in each DataFrame.\n"
   ]
  },
  {
   "cell_type": "code",
   "execution_count": null,
   "id": "906dab32",
   "metadata": {},
   "outputs": [],
   "source": [
    "print(type(gdp_df['Country or Area']))\n",
    "print(type(gdp_df.Year))\n",
    "print(type(gdp_df.Value))\n",
    "print(type(gdp_df['Value Footnotes']))"
   ]
  },
  {
   "cell_type": "markdown",
   "id": "56a78e2a",
   "metadata": {},
   "source": [
    "Show data types of columns:"
   ]
  },
  {
   "cell_type": "code",
   "execution_count": null,
   "id": "a57ff793",
   "metadata": {},
   "outputs": [],
   "source": [
    "gdp_df.info()"
   ]
  },
  {
   "cell_type": "code",
   "execution_count": null,
   "id": "f03572bd",
   "metadata": {},
   "outputs": [],
   "source": [
    "internet_df.info()"
   ]
  },
  {
   "cell_type": "markdown",
   "id": "aa42ca88",
   "metadata": {},
   "source": [
    "Different datatypes between the two DFs. gdp_df: obj, int64, float64, float64. internet_df: object, object, float64, float64."
   ]
  },
  {
   "cell_type": "markdown",
   "id": "58d7a507",
   "metadata": {},
   "source": [
    "Drop Column 'Value Footnote'"
   ]
  },
  {
   "cell_type": "markdown",
   "id": "abe3a534",
   "metadata": {},
   "source": [
    "#99. Take a look at the last 10 rows of each DataFrame in turn."
   ]
  },
  {
   "cell_type": "code",
   "execution_count": null,
   "id": "60914b03",
   "metadata": {},
   "outputs": [],
   "source": [
    "gdp_three = gdp_df.drop(columns = ['Value Footnotes'])\n",
    "internet_three = internet_df.drop(columns = ['Value Footnotes'])\n",
    "gdp_three.head()\n",
    "internet_three.head()"
   ]
  },
  {
   "cell_type": "code",
   "execution_count": null,
   "id": "0c31a932",
   "metadata": {},
   "outputs": [],
   "source": [
    "gdp_three.tail(10)\n",
    "\n",
    "internet_three.tail(10)"
   ]
  },
  {
   "cell_type": "markdown",
   "id": "573d95cb",
   "metadata": {},
   "source": [
    "#7.\tDrop the `value footnotes` column from both DataFrames. Check that this worked as expected.\n"
   ]
  },
  {
   "cell_type": "markdown",
   "id": "6e5fac0f",
   "metadata": {},
   "source": [
    "#8.\tChange the columns for the GDP Per Capita DataFrame to ‘Country’, ‘Year’, and ‘GDP_Per_Capita’.\n"
   ]
  },
  {
   "cell_type": "code",
   "execution_count": null,
   "id": "5e2d1d7f",
   "metadata": {
    "scrolled": true
   },
   "outputs": [],
   "source": [
    "gdp_three.columns = ['Country','Year', 'GDP_Per_Capita']\n",
    "gdp_three.head()\n"
   ]
  },
  {
   "cell_type": "markdown",
   "id": "a8fa3e21",
   "metadata": {},
   "source": [
    "Change gpd_three DF \"Year\" column to object to be able to merge with internet_three DF"
   ]
  },
  {
   "cell_type": "markdown",
   "id": "1b9c6568",
   "metadata": {},
   "source": [
    "#9.\tChange the columns for the Internet Users DataFrame to ‘Country’, ‘Year’, and ‘Internet_Users_Pct’."
   ]
  },
  {
   "cell_type": "code",
   "execution_count": null,
   "id": "0a31e9cd",
   "metadata": {},
   "outputs": [],
   "source": [
    "internet_three.columns = ['Country','Year', 'Internet_Users_Pct']\n",
    "internet_three"
   ]
  },
  {
   "cell_type": "markdown",
   "id": "f4b34f56",
   "metadata": {},
   "source": [
    "#10. Merge the two DataFrames to one. Merge **all rows** from each of the two DataFrames. Call the new DataFrame `gdp_and_internet_use`."
   ]
  },
  {
   "cell_type": "code",
   "execution_count": null,
   "id": "40542e33",
   "metadata": {},
   "outputs": [],
   "source": [
    "gdp_and_internet_use = pd.merge(gdp_three, internet_three, on=['Country', 'Year'], how='outer')\n",
    "gdp_and_internet_use.head()"
   ]
  },
  {
   "cell_type": "markdown",
   "id": "0ab91aae",
   "metadata": {},
   "source": [
    "#11. Look at the first five rows of your new DataFrame to confirm it merged correctly.\n"
   ]
  },
  {
   "cell_type": "code",
   "execution_count": null,
   "id": "eddad901",
   "metadata": {
    "scrolled": true
   },
   "outputs": [],
   "source": [
    "gdp_and_internet_use.shape"
   ]
  },
  {
   "cell_type": "markdown",
   "id": "bb920e46",
   "metadata": {},
   "source": [
    "#12. Look at the last five rows to make sure the data is clean and as expected."
   ]
  },
  {
   "cell_type": "code",
   "execution_count": null,
   "id": "1d245263",
   "metadata": {},
   "outputs": [],
   "source": [
    "gdp_and_internet_use.tail()"
   ]
  },
  {
   "cell_type": "markdown",
   "id": "c2414430",
   "metadata": {},
   "source": [
    "#13. Subset the combined DataFrame to keep only the data for 2004, 2009, and 2014. Check that this happened correctly."
   ]
  },
  {
   "cell_type": "code",
   "execution_count": null,
   "id": "34964b4e",
   "metadata": {},
   "outputs": [],
   "source": [
    "three_year = gdp_and_internet_use.loc[gdp_and_internet_use['Year'].isin([2004,2009,2014])]\n",
    "three_year.head()"
   ]
  },
  {
   "cell_type": "markdown",
   "id": "b0beb58b",
   "metadata": {},
   "source": [
    "Check for years in new DataFrame:"
   ]
  },
  {
   "cell_type": "code",
   "execution_count": null,
   "id": "63892f31",
   "metadata": {
    "scrolled": true
   },
   "outputs": [],
   "source": [
    "check_years = list(three_year.Year)\n",
    "set(check_years)"
   ]
  },
  {
   "cell_type": "code",
   "execution_count": null,
   "id": "aa2e8408",
   "metadata": {},
   "outputs": [],
   "source": [
    "three_year.Year.value_counts()"
   ]
  },
  {
   "cell_type": "markdown",
   "id": "72bf1745",
   "metadata": {},
   "source": [
    "#14. Create three new DataFrames, one for 2004, one for 2009, and one for 2014. Give them meaningful names that aren't too long.\n"
   ]
  },
  {
   "cell_type": "code",
   "execution_count": null,
   "id": "829f4813",
   "metadata": {
    "scrolled": true
   },
   "outputs": [],
   "source": [
    "df_2004 = gdp_and_internet_use.loc[gdp_and_internet_use['Year'] == 2004]\n",
    "df_2009 = gdp_and_internet_use.loc[gdp_and_internet_use['Year'] == 2009]\n",
    "df_2014 = gdp_and_internet_use.loc[gdp_and_internet_use['Year'] == 2014]\n",
    "df_2014.head()"
   ]
  },
  {
   "cell_type": "markdown",
   "id": "fba61d86",
   "metadata": {},
   "source": [
    "#15. Which country had the highest percentage of internet users in 2014? What was the percentage? (Try typing the first 3 letters of your DataFrame name and hitting the tab key for auto-complete options).\n"
   ]
  },
  {
   "cell_type": "code",
   "execution_count": null,
   "id": "d2016e1a",
   "metadata": {
    "scrolled": true
   },
   "outputs": [],
   "source": [
    "df_2014.loc[gdp_and_internet_use['Internet_Users_Pct'] == df_2014['Internet_Users_Pct'].max()]"
   ]
  },
  {
   "cell_type": "markdown",
   "id": "540b725b",
   "metadata": {},
   "source": [
    "#16. Which country had the lowest percentage of internet users in 2014? What was the percentage?\n"
   ]
  },
  {
   "cell_type": "code",
   "execution_count": null,
   "id": "ac77ec17",
   "metadata": {},
   "outputs": [],
   "source": [
    "df_2014.loc[gdp_and_internet_use['Internet_Users_Pct'] == df_2014['Internet_Users_Pct'].min()]"
   ]
  },
  {
   "cell_type": "markdown",
   "id": "da573720",
   "metadata": {},
   "source": [
    "#17. Repeat for 2004 and 2009.\n"
   ]
  },
  {
   "cell_type": "code",
   "execution_count": null,
   "id": "d89bc26f",
   "metadata": {
    "scrolled": true
   },
   "outputs": [],
   "source": [
    "print('Max internet users percent in 2004:')\n",
    "print('----------------------------------')\n",
    "print(df_2004.loc[gdp_and_internet_use['Internet_Users_Pct'] == df_2004['Internet_Users_Pct'].max()])\n",
    "print()\n",
    "print('Min internet users percent in 2004:')\n",
    "print('----------------------------------')\n",
    "print(df_2004.loc[gdp_and_internet_use['Internet_Users_Pct'] == df_2004['Internet_Users_Pct'].min()])\n",
    "print()\n",
    "print('Max internet users percent in 2009:')\n",
    "print('----------------------------------')\n",
    "print(df_2009.loc[gdp_and_internet_use['Internet_Users_Pct'] == df_2009['Internet_Users_Pct'].max()])\n",
    "print()\n",
    "print('Min internet users percent in 2009:')\n",
    "print('----------------------------------')\n",
    "print(df_2009.loc[gdp_and_internet_use['Internet_Users_Pct'] == df_2009['Internet_Users_Pct'].min()])\n"
   ]
  },
  {
   "cell_type": "markdown",
   "id": "fcf99dbd",
   "metadata": {},
   "source": [
    "#18. Which country had the highest gdp per capita in 2014? What was the gdp per capita?\n"
   ]
  },
  {
   "cell_type": "code",
   "execution_count": null,
   "id": "7f625173",
   "metadata": {},
   "outputs": [],
   "source": [
    "df_2014.loc[gdp_and_internet_use['GDP_Per_Capita'] == df_2014['GDP_Per_Capita'].max()]\n"
   ]
  },
  {
   "cell_type": "markdown",
   "id": "924c8e83",
   "metadata": {},
   "source": [
    "#20. Which country had the lowest gdp per capita in 2014? What was the gdp per capita?\n"
   ]
  },
  {
   "cell_type": "code",
   "execution_count": null,
   "id": "fc0b494b",
   "metadata": {},
   "outputs": [],
   "source": [
    "df_2014.loc[gdp_and_internet_use['GDP_Per_Capita'] == df_2014['GDP_Per_Capita'].min()]\n"
   ]
  },
  {
   "cell_type": "markdown",
   "id": "f9ddc980",
   "metadata": {},
   "source": [
    "21.\tCreate some scatterplots: \n",
    "    A) 2004 Internet vs GDP"
   ]
  },
  {
   "cell_type": "code",
   "execution_count": null,
   "id": "4d9acec5",
   "metadata": {},
   "outputs": [],
   "source": [
    "plt.scatter(df_2004.Internet_Users_Pct, df_2004.GDP_Per_Capita)\n",
    "plt.title('2004 Internet vs GDP per Capita')\n",
    "plt.xlabel('Internet percent')\n",
    "plt.ylabel('GDP per capita')"
   ]
  },
  {
   "cell_type": "markdown",
   "id": "c5e4e277",
   "metadata": {},
   "source": [
    "B) 2009 Internet vs GDP"
   ]
  },
  {
   "cell_type": "code",
   "execution_count": null,
   "id": "ec36c1f7",
   "metadata": {},
   "outputs": [],
   "source": [
    "plt.scatter(df_2009.Internet_Users_Pct, df_2009.GDP_Per_Capita)\n",
    "plt.title('2009 Internet vs GDP per Capita')\n",
    "plt.xlabel('internet percent')\n",
    "plt.ylabel('GDP per capita')"
   ]
  },
  {
   "cell_type": "markdown",
   "id": "7429b497",
   "metadata": {},
   "source": [
    "C) 2014 Internet vs GDP"
   ]
  },
  {
   "cell_type": "code",
   "execution_count": null,
   "id": "a24d8b02",
   "metadata": {},
   "outputs": [],
   "source": [
    "plt.scatter(df_2014.Internet_Users_Pct, df_2014.GDP_Per_Capita)\n",
    "plt.title('2014 Internet vs GDP per Capita')\n",
    "plt.xlabel('internet percent')\n",
    "plt.ylabel('GDP per capita')"
   ]
  },
  {
   "cell_type": "markdown",
   "id": "b846adab",
   "metadata": {},
   "source": [
    "#22. Are there differences across years? What do the plots tell you about any relationship between these two variables? Enter your observations as a markdown cell.\n"
   ]
  },
  {
   "cell_type": "markdown",
   "id": "dc6358ca",
   "metadata": {},
   "source": [
    "Yes, internet usage has increased over the years. There is a positive correlation between the two variables as time goes on."
   ]
  },
  {
   "cell_type": "markdown",
   "id": "ab2b9426",
   "metadata": {},
   "source": [
    "#23. Look at the distribution of gdp per capita values for 2014. Is it unimodal?"
   ]
  },
  {
   "cell_type": "code",
   "execution_count": null,
   "id": "b0053a35",
   "metadata": {},
   "outputs": [],
   "source": [
    "plt.hist(df_2014.GDP_Per_Capita)\n",
    "plt.title ('Distribution of GDP per Capita in 2014')"
   ]
  },
  {
   "cell_type": "markdown",
   "id": "61699dba",
   "metadata": {},
   "source": [
    "Yes the distribution is unimodal."
   ]
  },
  {
   "cell_type": "markdown",
   "id": "bce90ecf",
   "metadata": {},
   "source": [
    "#24. Look at the distribution of Internet Use for 2014. Is it unimodal?"
   ]
  },
  {
   "cell_type": "code",
   "execution_count": null,
   "id": "80a4cfdc",
   "metadata": {},
   "outputs": [],
   "source": [
    "plt.hist(df_2014.Internet_Users_Pct)\n",
    "plt.title ('Distribution of Internet use Percent in 2014')"
   ]
  },
  {
   "cell_type": "markdown",
   "id": "acd7fb00",
   "metadata": {},
   "source": [
    "Internet use percentage is NOT unimodal."
   ]
  },
  {
   "cell_type": "markdown",
   "id": "7c93283f",
   "metadata": {},
   "source": [
    "#25. What are the top 5 countries in terms of internet use in 2014?"
   ]
  },
  {
   "cell_type": "code",
   "execution_count": null,
   "id": "3a00350b",
   "metadata": {},
   "outputs": [],
   "source": [
    "internet_2014 = df_2014.sort_values(ascending=False, by=['Internet_Users_Pct']).head(5)\n",
    "internet_2014"
   ]
  },
  {
   "cell_type": "markdown",
   "id": "51d35537",
   "metadata": {},
   "source": [
    "#26. Create a DataFrame called top_5_internet **from the combined DataFrame that has all three years _for the 5 countries that had the greatest 2014 internet usage_**. You should have 15 rows. Check that this is true."
   ]
  },
  {
   "cell_type": "code",
   "execution_count": null,
   "id": "386ceb84",
   "metadata": {
    "scrolled": true
   },
   "outputs": [],
   "source": [
    "#top_5_internet = three_year.loc[three_year.Country.isin(['Iceland','Bermuda','Norway','Denmark','Andorra'])]\n",
    "\n",
    "top_5_internet = three_year.loc[three_year.Country.isin(list(internet_2014.Country))]\n",
    "\n",
    "top_5_internet.shape"
   ]
  },
  {
   "cell_type": "markdown",
   "id": "f7b82477",
   "metadata": {},
   "source": [
    "#27. Create a seaborn FacetGrid to show the internet usage trend across the years 2004, 2009, and 2014 for these 5 countries (those with the highest reported internet use in 2014). Which country had the greatest growth between 2004 and 2014?\n"
   ]
  },
  {
   "cell_type": "code",
   "execution_count": null,
   "id": "f56515b4",
   "metadata": {},
   "outputs": [],
   "source": [
    "g = sns.FacetGrid(top_5_internet, col='Country')\n",
    "g.map_dataframe(sns.barplot,x='Year', y='Internet_Users_Pct')"
   ]
  },
  {
   "cell_type": "markdown",
   "id": "eade4b60",
   "metadata": {},
   "source": [
    "#28. Repeat the steps above to look at the trend for the 5 countries with the lowest 2014 internet usage. Which country has consistently had the least internet use?\n"
   ]
  },
  {
   "cell_type": "code",
   "execution_count": null,
   "id": "f1b6018f",
   "metadata": {},
   "outputs": [],
   "source": [
    "low_5_internet = df_2014.sort_values(ascending=True, by=['Internet_Users_Pct']).head(5)\n",
    "\n",
    "bottom_5_internet = three_year.loc[three_year.Country.isin(list(low_5_internet.Country))]\n",
    "\n",
    "g = sns.FacetGrid(bottom_5_internet, col='Country')\n",
    "g.map_dataframe(sns.lineplot,x='Year', y='Internet_Users_Pct')"
   ]
  },
  {
   "cell_type": "code",
   "execution_count": null,
   "id": "9790c7ca",
   "metadata": {},
   "outputs": [],
   "source": [
    "bottom_5_internet"
   ]
  },
  {
   "cell_type": "markdown",
   "id": "527d6f33",
   "metadata": {},
   "source": [
    "#29. Find the top 5 countries for 2014 in terms of GDP per capita; create a DataFrame to look at 10-year trends (use 2004, 2009, 2014 to look at the 10-year trend) in gdp per capita for the 5 countries with the highest 2014 GDP per capita. Use a seaborn facet grid for this."
   ]
  },
  {
   "cell_type": "code",
   "execution_count": null,
   "id": "ca92f93d",
   "metadata": {
    "scrolled": true
   },
   "outputs": [],
   "source": [
    "top_5_gdp_2014 = df_2014.sort_values(ascending=False, by=['GDP_Per_Capita']).head(5)\n",
    "\n",
    "top_5_gdp_10 = three_year.loc[three_year.Country.isin(list(top_5_gdp_2014.Country))]\n",
    "\n",
    "g = sns.FacetGrid(top_5_gdp_10, col='Country')\n",
    "g.map_dataframe(sns.barplot,x='Year', y='GDP_Per_Capita')"
   ]
  },
  {
   "cell_type": "markdown",
   "id": "aeb0bf96",
   "metadata": {},
   "source": [
    "#96. Repeat this one more time to look at 10-year trend for the 5 countries for 2014 with the lowest GDP per capita."
   ]
  },
  {
   "cell_type": "code",
   "execution_count": null,
   "id": "5d3345a5",
   "metadata": {
    "scrolled": true
   },
   "outputs": [],
   "source": [
    "low_5_gdp = df_2014.sort_values(ascending=True, by=['GDP_Per_Capita']).head()\n",
    "\n",
    "low_5_gdp_10 = three_year.loc[three_year.Country.isin(list(low_5_gdp.Country))]\n",
    "\n",
    "g = sns.FacetGrid(low_5_gdp_10, col='Country')\n",
    "\n",
    "g.map_dataframe(sns.barplot,x='Year', y='GDP_Per_Capita')"
   ]
  },
  {
   "cell_type": "markdown",
   "id": "87a31075",
   "metadata": {},
   "source": [
    "#30. Is there anything surprising or unusual in any of these plots? Searching on the internet, can you find any possible explanations for unusual findings?"
   ]
  },
  {
   "cell_type": "markdown",
   "id": "43e78915",
   "metadata": {},
   "source": [
    "- There is no GDP data for Somalia in 2004 and 2009.\n",
    "- There is no Internet data for Dem. People's Rep. Korea\n",
    "- Central African Republic GDP dropped significantly from 2009 to 2014 where other countries go up over time.\n",
    "- Macao SAR, China GDP has grown faster than other countries."
   ]
  },
  {
   "cell_type": "markdown",
   "id": "7672edff",
   "metadata": {},
   "source": [
    "Bonus: Download another data set to merge with data and explore."
   ]
  },
  {
   "cell_type": "code",
   "execution_count": null,
   "id": "6cbb090f",
   "metadata": {
    "scrolled": true
   },
   "outputs": [],
   "source": [
    "# Downloaded Total electricity consumption data. Make DF called total electricity from CSV file.\n",
    "total_electricity = pd.read_csv('../data/total_electricity.csv')\n",
    "\n",
    "# Drop uneccessary columns\n",
    "elec_three = total_electricity.drop(columns=['Commodity - Transaction','Unit', 'Quantity Footnotes'])\n",
    "\n",
    "# Rename columns for merge\n",
    "elec_three.columns = ['Country','Year','kW_units']\n",
    "\n",
    "# Merge DFs\n",
    "total_stat_df = pd.merge(elec_three, gdp_and_internet_use, on=['Country','Year'], how ='outer')\n",
    "\n",
    "# New DF with stats on electricity usage, GDP per capita, and percentage of internet use. By Country and by Year.\n",
    "total_stat_df.head()"
   ]
  },
  {
   "cell_type": "markdown",
   "id": "10fe65a3",
   "metadata": {},
   "source": [
    "Explore:"
   ]
  },
  {
   "cell_type": "code",
   "execution_count": null,
   "id": "7549dba5",
   "metadata": {
    "scrolled": true
   },
   "outputs": [],
   "source": [
    "# Extract for 3 years\n",
    "df2_2004 = total_stat_df.loc[total_stat_df['Year'] == 2004]\n",
    "df2_2009 = total_stat_df.loc[total_stat_df['Year'] == 2009]\n",
    "df2_2014 = total_stat_df.loc[total_stat_df['Year'] == 2014]\n",
    "df2_2014.head()"
   ]
  },
  {
   "cell_type": "markdown",
   "id": "7767fcba",
   "metadata": {},
   "source": [
    "DF for 2004 information"
   ]
  },
  {
   "cell_type": "code",
   "execution_count": null,
   "id": "57ed6895",
   "metadata": {},
   "outputs": [],
   "source": [
    "# Top 10 countries by Electrical Consumption in 2004\n",
    "df2_2004.sort_values(ascending=False, by=['kW_units']).head(10)"
   ]
  },
  {
   "cell_type": "markdown",
   "id": "98ebfd05",
   "metadata": {},
   "source": [
    "Scatter plot"
   ]
  },
  {
   "cell_type": "code",
   "execution_count": null,
   "id": "229b40dd",
   "metadata": {},
   "outputs": [],
   "source": [
    "plt.scatter(df2_2004.GDP_Per_Capita, df2_2004.kW_units)\n",
    "plt.xlabel('GDP per Capita')\n",
    "plt.ylabel('Electricity Consumption')"
   ]
  },
  {
   "cell_type": "code",
   "execution_count": null,
   "id": "1cf09ed4",
   "metadata": {},
   "outputs": [],
   "source": [
    "plt.hist(df2_2014.kW_units)"
   ]
  },
  {
   "cell_type": "markdown",
   "id": "426d039e",
   "metadata": {},
   "source": []
  }
 ],
 "metadata": {
  "kernelspec": {
   "display_name": "Python 3 (ipykernel)",
   "language": "python",
   "name": "python3"
  },
  "language_info": {
   "codemirror_mode": {
    "name": "ipython",
    "version": 3
   },
   "file_extension": ".py",
   "mimetype": "text/x-python",
   "name": "python",
   "nbconvert_exporter": "python",
   "pygments_lexer": "ipython3",
   "version": "3.10.6"
  }
 },
 "nbformat": 4,
 "nbformat_minor": 5
}
